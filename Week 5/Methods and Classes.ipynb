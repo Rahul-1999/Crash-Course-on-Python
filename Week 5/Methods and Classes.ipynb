{
 "nbformat": 4,
 "nbformat_minor": 2,
 "metadata": {
  "language_info": {
   "name": "python",
   "codemirror_mode": {
    "name": "ipython",
    "version": 3
   },
   "version": "3.8.2-final"
  },
  "orig_nbformat": 2,
  "file_extension": ".py",
  "mimetype": "text/x-python",
  "name": "python",
  "npconvert_exporter": "python",
  "pygments_lexer": "ipython3",
  "version": 3,
  "kernelspec": {
   "name": "python38264bitd3986f0455d34f139e072faa427d99a7",
   "display_name": "Python 3.8.2 64-bit"
  }
 },
 "cells": [
  {
   "cell_type": "code",
   "execution_count": null,
   "metadata": {},
   "outputs": [],
   "source": [
    "class Elevator:\n",
    "    def __init__(self, bottom, top, current):\n",
    "        \"\"\"Initializes the Elevator instance.\"\"\"\n",
    "        self.bottom = bottom\n",
    "        self.top = top\n",
    "        self.current = current\n",
    "\n",
    "    def up(self):\n",
    "        \"\"\"Makes the elevator go up one floor.\"\"\"\n",
    "        if (self.current < self.top):\n",
    "            self.current = self.current + 1\n",
    "        elif (self.current >= self.top):\n",
    "            self.current = self.current\n",
    "        else:\n",
    "            pass\n",
    "\n",
    "    def down(self):\n",
    "        \"\"\"Makes the elevator go down one floor.\"\"\"\n",
    "        if (self.bottom > 0) and (self.current > self.bottom):\n",
    "            self.current = self.current - 1\n",
    "        elif (self.bottom < 0) and (self.current > self.bottom):\n",
    "            self.current = self.current - 1\n",
    "        else:\n",
    "            pass\n",
    "\n",
    "    def go_to(self, floor):\n",
    "        \"\"\"Makes the elevator go to the specific floor.\"\"\"\n",
    "        self.floor = floor\n",
    "        if (self.floor < 0 and self.bottom < 0) and (self.floor >= self.bottom):\n",
    "            self.current = self.floor\n",
    "        elif (self.floor > 0 and self.bottom > 0) and (self.floor >= self.bottom):\n",
    "            self.current = self.floor\n",
    "        elif (self.floor > 0 and self.top > 0) and (self.floor <= self.top):\n",
    "            self.current = self.floor\n",
    "    \n",
    "    def __str__(self):\n",
    "        return \"Current floor : {}\".format(self.current)\n",
    "elevator = Elevator(-1, 10, 0)"
   ]
  },
  {
   "cell_type": "code",
   "execution_count": null,
   "metadata": {},
   "outputs": [],
   "source": [
    "elevator.up() \n",
    "elevator.current #should output 1"
   ]
  },
  {
   "cell_type": "code",
   "execution_count": null,
   "metadata": {},
   "outputs": [],
   "source": [
    "elevator.down() \n",
    "elevator.current #should output 0"
   ]
  },
  {
   "cell_type": "code",
   "execution_count": null,
   "metadata": {},
   "outputs": [],
   "source": [
    "elevator.go_to(10) \n",
    "elevator.current #should output 10"
   ]
  },
  {
   "cell_type": "code",
   "execution_count": null,
   "metadata": {},
   "outputs": [],
   "source": [
    "# Go to the top floor. Try to go up, it should stay. Then go down.\n",
    "elevator.go_to(10)\n",
    "elevator.up()\n",
    "elevator.down()\n",
    "print(elevator.current) # should be 9\n",
    "# Go to the bottom floor. Try to go down, it should stay. Then go up.\n",
    "elevator.go_to(-1)\n",
    "elevator.down()\n",
    "elevator.down()\n",
    "elevator.up()\n",
    "elevator.up()\n",
    "print(elevator.current) # should be 1"
   ]
  },
  {
   "cell_type": "code",
   "execution_count": null,
   "metadata": {},
   "outputs": [],
   "source": [
    "elevator.go_to(5)\n",
    "print(elevator)"
   ]
  }
 ]
}